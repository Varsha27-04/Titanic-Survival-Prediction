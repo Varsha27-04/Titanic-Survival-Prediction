{
 "cells": [
  {
   "cell_type": "code",
   "execution_count": 7,
   "id": "965d609a-0bca-431b-8107-517f3f57e861",
   "metadata": {},
   "outputs": [
    {
     "name": "stdout",
     "output_type": "stream",
     "text": [
      "Model Evaluation:\n",
      "Accuracy: 1.0000\n",
      "Precision: 1.0000\n",
      "Recall: 1.0000\n",
      "F1 Score: 1.0000\n",
      "Model saved as titanic_model.pkl\n"
     ]
    }
   ],
   "source": [
    "import pandas as pd\n",
    "import numpy as np\n",
    "from sklearn.model_selection import train_test_split\n",
    "from sklearn.preprocessing import LabelEncoder, StandardScaler\n",
    "from sklearn.impute import SimpleImputer\n",
    "from sklearn.ensemble import RandomForestClassifier\n",
    "from sklearn.metrics import accuracy_score, precision_score, recall_score, f1_score\n",
    "import joblib\n",
    "\n",
    "\n",
    "def load_data(file_path):\n",
    "    return pd.read_csv(file_path)\n",
    "\n",
    "\n",
    "def preprocess_data(df):\n",
    "    df = df.drop(columns=[\"PassengerId\", \"Name\", \"Ticket\", \"Cabin\"], errors='ignore')\n",
    "    \n",
    "    # Handle missing values\n",
    "    df[\"Age\"] = SimpleImputer(strategy=\"median\").fit_transform(df[[\"Age\"]])\n",
    "    df[\"Fare\"] = SimpleImputer(strategy=\"mean\").fit_transform(df[[\"Fare\"]])\n",
    "    df.dropna(inplace=True)  # Drop remaining missing values if any\n",
    "    \n",
    "    # Encode categorical variables\n",
    "    label_encoder = LabelEncoder()\n",
    "    df[\"Sex\"] = label_encoder.fit_transform(df[\"Sex\"])\n",
    "    df[\"Embarked\"] = label_encoder.fit_transform(df[\"Embarked\"])\n",
    "    \n",
    "    # Normalize numerical data\n",
    "    scaler = StandardScaler()\n",
    "    df[[\"Age\", \"Fare\"]] = scaler.fit_transform(df[[\"Age\", \"Fare\"]])\n",
    "    \n",
    "    return df\n",
    "\n",
    "# Train Model\n",
    "def train_model(X_train, y_train):\n",
    "    model = RandomForestClassifier(n_estimators=100, random_state=42)\n",
    "    model.fit(X_train, y_train)\n",
    "    return model\n",
    "\n",
    "# Evaluate Model\n",
    "def evaluate_model(model, X_test, y_test):\n",
    "    y_pred = model.predict(X_test)\n",
    "    metrics = {\n",
    "        \"Accuracy\": accuracy_score(y_test, y_pred),\n",
    "        \"Precision\": precision_score(y_test, y_pred),\n",
    "        \"Recall\": recall_score(y_test, y_pred),\n",
    "        \"F1 Score\": f1_score(y_test, y_pred)\n",
    "    }\n",
    "    return metrics\n",
    "\n",
    "if __name__ == \"__main__\":\n",
    "    file_path = \"tested.csv\"  # Ensure the dataset is in the project directory\n",
    "    \n",
    "   \n",
    "    df = load_data(file_path)\n",
    "    df = preprocess_data(df)\n",
    "    \n",
    "    # Splitting data\n",
    "    X = df.drop(columns=[\"Survived\"])\n",
    "    y = df[\"Survived\"]\n",
    "    X_train, X_test, y_train, y_test = train_test_split(X, y, test_size=0.2, random_state=42)\n",
    "    \n",
    "    # Train and evaluate model\n",
    "    model = train_model(X_train, y_train)\n",
    "    results = evaluate_model(model, X_test, y_test)\n",
    "    \n",
    "    print(\"Model Evaluation:\")\n",
    "    for metric, value in results.items():\n",
    "        print(f\"{metric}: {value:.4f}\")\n",
    "    \n",
    "    # Save the trained model\n",
    "    joblib.dump(model, \"titanic_model.pkl\")\n",
    "    print(\"Model saved as titanic_model.pkl\")\n"
   ]
  },
  {
   "cell_type": "code",
   "execution_count": null,
   "id": "2560285a-5ad3-49f2-9717-904b83a35333",
   "metadata": {},
   "outputs": [],
   "source": []
  },
  {
   "cell_type": "code",
   "execution_count": null,
   "id": "343a739a-db4f-4f4d-a768-ba21af66b60f",
   "metadata": {},
   "outputs": [],
   "source": []
  },
  {
   "cell_type": "code",
   "execution_count": null,
   "id": "866c5e4e-1ba3-43b2-9feb-30bfd95119ee",
   "metadata": {},
   "outputs": [],
   "source": []
  }
 ],
 "metadata": {
  "kernelspec": {
   "display_name": "Python 3 (ipykernel)",
   "language": "python",
   "name": "python3"
  },
  "language_info": {
   "codemirror_mode": {
    "name": "ipython",
    "version": 3
   },
   "file_extension": ".py",
   "mimetype": "text/x-python",
   "name": "python",
   "nbconvert_exporter": "python",
   "pygments_lexer": "ipython3",
   "version": "3.12.7"
  }
 },
 "nbformat": 4,
 "nbformat_minor": 5
}
